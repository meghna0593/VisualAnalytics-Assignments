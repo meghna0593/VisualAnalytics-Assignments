{
 "cells": [
  {
   "cell_type": "markdown",
   "metadata": {},
   "source": [
    "# Visual Analytics : Assignment 1   \n",
    ">#### <font color=\"#2196F3\">Meghna Ramachandra Holla (B00812604) </font>\n",
    "***"
   ]
  },
  {
   "cell_type": "code",
   "execution_count": 249,
   "metadata": {},
   "outputs": [],
   "source": [
    "import matplotlib.pyplot as plt\n",
    "import pandas as pd\n",
    "import numpy as np\n",
    "import random"
   ]
  },
  {
   "cell_type": "code",
   "execution_count": 250,
   "metadata": {},
   "outputs": [],
   "source": [
    "# Loading data from CSV file\n",
    "def load_data():\n",
    "    path_to_file = \"C:/Users/Meghna/Documents/MACS/Term 3/Visual Analytics/Assignments/Assignment 1/dataset1_dirty.csv\"\n",
    "    data_set = pd.read_csv(path_to_file)\n",
    "    return data_set"
   ]
  },
  {
   "cell_type": "code",
   "execution_count": 251,
   "metadata": {},
   "outputs": [],
   "source": [
    "def age_raw(age):\n",
    "#     print(age.isnull().sum()) #checking total null values\n",
    "#     print(np.isnan(age).sum()) #checking total nan values\n",
    "#     print(age.isnull().values.any()) #check if there are any missing values at all\n",
    "#     print((age.astype(str) != '?').all(axis=0)) #checking if there are '?' characters\n",
    "    age_data = age.clip(0,age.max())  \n",
    "    age_data = age_data.replace(0,random.randrange(0,age.max())) #replacing age '0' with random ages from the given data to avoid altering the data distribution #https://pynative.com/python-random-randrange/\n",
    "    print(age_data)\n",
    "\n",
    "    \n",
    "\n",
    "#     plt.hist(age, bins = 5)\n"
   ]
  },
  {
   "cell_type": "code",
   "execution_count": null,
   "metadata": {},
   "outputs": [],
   "source": []
  },
  {
   "cell_type": "code",
   "execution_count": null,
   "metadata": {},
   "outputs": [],
   "source": []
  },
  {
   "cell_type": "code",
   "execution_count": 252,
   "metadata": {},
   "outputs": [],
   "source": [
    "def main():\n",
    "    data_set = load_data()\n",
    "#     print(data_set.apply(axis=0, func=lambda x : any(pd.isnull(x)))) #checking if there are null values in all columns\n",
    "    age_raw(data_set['age'])"
   ]
  },
  {
   "cell_type": "code",
   "execution_count": 253,
   "metadata": {},
   "outputs": [
    {
     "name": "stdout",
     "output_type": "stream",
     "text": [
      "0        39\n",
      "1        50\n",
      "2        38\n",
      "3        53\n",
      "4        28\n",
      "5        37\n",
      "6        49\n",
      "7        52\n",
      "8        31\n",
      "9        42\n",
      "10       37\n",
      "11       30\n",
      "12       23\n",
      "13       32\n",
      "14       34\n",
      "15       63\n",
      "16       32\n",
      "17       38\n",
      "18       43\n",
      "19       40\n",
      "20       54\n",
      "21       35\n",
      "22       43\n",
      "23       59\n",
      "24       56\n",
      "25       19\n",
      "26       39\n",
      "27       49\n",
      "28       23\n",
      "29       20\n",
      "         ..\n",
      "30132    32\n",
      "30133    22\n",
      "30134    31\n",
      "30135    29\n",
      "30136    34\n",
      "30137    54\n",
      "30138    37\n",
      "30139    22\n",
      "30140    34\n",
      "30141    30\n",
      "30142    38\n",
      "30143    45\n",
      "30144    63\n",
      "30145    31\n",
      "30146    39\n",
      "30147    37\n",
      "30148    43\n",
      "30149    65\n",
      "30150    43\n",
      "30151    43\n",
      "30152    32\n",
      "30153    43\n",
      "30154    32\n",
      "30155    53\n",
      "30156    22\n",
      "30157    27\n",
      "30158    40\n",
      "30159    58\n",
      "30160    22\n",
      "30161    52\n",
      "Name: age, Length: 30162, dtype: int64\n"
     ]
    }
   ],
   "source": [
    "if __name__ == \"__main__\":\n",
    "    main()"
   ]
  },
  {
   "cell_type": "code",
   "execution_count": null,
   "metadata": {},
   "outputs": [],
   "source": []
  },
  {
   "cell_type": "code",
   "execution_count": null,
   "metadata": {},
   "outputs": [],
   "source": []
  }
 ],
 "metadata": {
  "kernelspec": {
   "display_name": "Python 3",
   "language": "python",
   "name": "python3"
  },
  "language_info": {
   "codemirror_mode": {
    "name": "ipython",
    "version": 3
   },
   "file_extension": ".py",
   "mimetype": "text/x-python",
   "name": "python",
   "nbconvert_exporter": "python",
   "pygments_lexer": "ipython3",
   "version": "3.7.3"
  }
 },
 "nbformat": 4,
 "nbformat_minor": 2
}
