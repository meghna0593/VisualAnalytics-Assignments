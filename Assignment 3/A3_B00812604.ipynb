{
 "cells": [
  {
   "cell_type": "markdown",
   "metadata": {},
   "source": [
    "# Visual Analytics : Assignment 3 \n",
    ">#### <font color=\"#2196F3\">Meghna Ramachandra Holla (B00812604) </font>\n",
    "***"
   ]
  },
  {
   "cell_type": "code",
   "execution_count": 52,
   "metadata": {},
   "outputs": [],
   "source": [
    "import matplotlib.pyplot as plt\n",
    "import pandas as pd\n",
    "import numpy as np"
   ]
  },
  {
   "cell_type": "code",
   "execution_count": 53,
   "metadata": {},
   "outputs": [],
   "source": [
    "# Loading data from CSV file\n",
    "def load_data():\n",
    "    path_to_file = \"dataset1_processed.csv\"\n",
    "    data_set = pd.read_csv(path_to_file)\n",
    "    return data_set"
   ]
  },
  {
   "cell_type": "code",
   "execution_count": 54,
   "metadata": {},
   "outputs": [],
   "source": [
    "def splitData(dataset):\n",
    "    #gathering numerical values\n",
    "    datatype_numeric = ['int16', 'int32', 'int64', 'float16', 'float32', 'float64']\n",
    "    numericalValues = dataset.select_dtypes(include=datatype_numeric)\n",
    "    categoricalValues = dataset.select_dtypes(exclude=datatype_numeric)    \n",
    "    return (numericalValues, categoricalValues)"
   ]
  },
  {
   "cell_type": "code",
   "execution_count": null,
   "metadata": {},
   "outputs": [],
   "source": [
    "def normalizeDataFrame(numericalValues, categoricalValues):\n",
    "    return None"
   ]
  },
  {
   "cell_type": "code",
   "execution_count": 55,
   "metadata": {},
   "outputs": [],
   "source": [
    "def main():\n",
    "    \n",
    "    #Data Load\n",
    "    data_set = load_data() \n",
    "#     print(data_set.dtypes)\n",
    "\n",
    "    numericalValues, categoricalValues = splitData(data_set)\n",
    "\n",
    "    normalizeDataFrame(numericalValues, categoricalValues)"
   ]
  },
  {
   "cell_type": "code",
   "execution_count": 56,
   "metadata": {},
   "outputs": [
    {
     "name": "stdout",
     "output_type": "stream",
     "text": [
      "age               int64\n",
      "fnlwgt            int64\n",
      "education-num     int64\n",
      "capital-loss      int64\n",
      "hours-per-week    int64\n",
      "dtype: object\n",
      "workclass         object\n",
      "education         object\n",
      "marital-status    object\n",
      "occupation        object\n",
      "relationship      object\n",
      "race              object\n",
      "sex               object\n",
      "native-country    object\n",
      "salary            object\n",
      "dtype: object\n"
     ]
    }
   ],
   "source": [
    "if __name__ == \"__main__\":\n",
    "    main()"
   ]
  }
 ],
 "metadata": {
  "kernelspec": {
   "display_name": "Python 3",
   "language": "python",
   "name": "python3"
  },
  "language_info": {
   "codemirror_mode": {
    "name": "ipython",
    "version": 3
   },
   "file_extension": ".py",
   "mimetype": "text/x-python",
   "name": "python",
   "nbconvert_exporter": "python",
   "pygments_lexer": "ipython3",
   "version": "3.7.3"
  }
 },
 "nbformat": 4,
 "nbformat_minor": 2
}
