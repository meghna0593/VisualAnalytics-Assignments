{
 "cells": [
  {
   "cell_type": "markdown",
   "metadata": {},
   "source": [
    "# Visual Analytics : Assignment 3 \n",
    ">#### <font color=\"#2196F3\">Meghna Ramachandra Holla (B00812604) </font>\n",
    "***"
   ]
  },
  {
   "cell_type": "code",
   "execution_count": 508,
   "metadata": {},
   "outputs": [],
   "source": [
    "import matplotlib.pyplot as plt\n",
    "import pandas as pd\n",
    "import numpy as np\n",
    "import math\n",
    "from sklearn import preprocessing\n",
    "from sklearn.preprocessing import LabelEncoder\n",
    "from sklearn.model_selection import train_test_split\n",
    "from sklearn.ensemble.bagging import BaggingClassifier\n",
    "from sklearn.ensemble.forest import RandomForestClassifier\n",
    "from sklearn.neighbors.classification import KNeighborsClassifier\n",
    "from sklearn import metrics"
   ]
  },
  {
   "cell_type": "code",
   "execution_count": 509,
   "metadata": {},
   "outputs": [],
   "source": [
    "# Loading data from CSV file\n",
    "def load_data():\n",
    "    path_to_file = \"dataset1_processed.csv\"\n",
    "    data_set = pd.read_csv(path_to_file)\n",
    "    return data_set"
   ]
  },
  {
   "cell_type": "code",
   "execution_count": 510,
   "metadata": {},
   "outputs": [],
   "source": [
    "def splitData(dataset):\n",
    "    #gathering numerical values\n",
    "    datatype_numeric = ['int16', 'int32', 'int64', 'float16', 'float32', 'float64']\n",
    "    numericalValues = dataset.select_dtypes(include=datatype_numeric)\n",
    "    categoricalValues = dataset.select_dtypes(exclude=datatype_numeric)   \n",
    "    categoricalValues = categoricalValues.loc[:, categoricalValues.columns != 'salary']\n",
    "    return (numericalValues, categoricalValues)"
   ]
  },
  {
   "cell_type": "code",
   "execution_count": 511,
   "metadata": {},
   "outputs": [],
   "source": [
    "def normalizeDataFrame(numericalValues, categoricalValues, data_set):\n",
    "    \n",
    "    categorical_df =  pd.get_dummies(categoricalValues, columns=list(categoricalValues.columns))  \n",
    "    arr = numericalValues.values.astype('float64') \n",
    "    min_max_scaler = preprocessing.MinMaxScaler()\n",
    "    arr_scaled = min_max_scaler.fit_transform(arr)\n",
    "    numerical_df = pd.DataFrame(arr_scaled)\n",
    "   \n",
    "    merged_df=pd.concat([numerical_df,categorical_df],axis=1)\n",
    "\n",
    "    return merged_df\n",
    "\n",
    "#https://stackoverflow.com/questions/26414913/normalize-columns-of-pandas-data-frame\n",
    "#https://stackoverflow.com/questions/39214164/data-conversion-error-while-applying-a-function-to-each-row-in-pandas-python\n",
    "#https://stackoverflow.com/questions/38413579/what-is-the-difference-between-sklearn-labelencoder-and-pd-get-dummies\n",
    "#https://www.reddit.com/r/MachineLearning/comments/3nuh7g/is_it_effective_to_use_one_hot_encoding_of/"
   ]
  },
  {
   "cell_type": "code",
   "execution_count": 512,
   "metadata": {},
   "outputs": [],
   "source": [
    "def accuracy_f1Score(model, y_pred, y_test):\n",
    "    accuracy = metrics.accuracy_score(y_test, y_pred)\n",
    "    f1Score = metrics.f1_score(y_test, y_pred, average='weighted')\n",
    "    print(\"Accuracy Score for\",model,\"model is\", math.ceil(accuracy*100))\n",
    "    print(\"F1 Score for\",model,\"model is\", math.ceil(f1Score*100))    "
   ]
  },
  {
   "cell_type": "code",
   "execution_count": 513,
   "metadata": {},
   "outputs": [],
   "source": [
    "def baggingClassifier(X_train, X_test, y_train, y_test):\n",
    "    classifier = BaggingClassifier(n_estimators=15)\n",
    "    classifier.fit(X_train, y_train)\n",
    "    y_pred = classifier.predict(X_test)\n",
    "    accuracy_f1Score(\"Bagging\", y_pred, y_test)"
   ]
  },
  {
   "cell_type": "code",
   "execution_count": 514,
   "metadata": {},
   "outputs": [],
   "source": [
    "def randomForestClassifier(X_train, X_test, y_train, y_test):\n",
    "    classifier = RandomForestClassifier(n_estimators=15)\n",
    "    classifier.fit(X_train, y_train)\n",
    "    y_pred = classifier.predict(X_test)\n",
    "    accuracy_f1Score(\"Random Forest\", y_pred, y_test)    "
   ]
  },
  {
   "cell_type": "code",
   "execution_count": 515,
   "metadata": {},
   "outputs": [],
   "source": [
    "def main():\n",
    "    \n",
    "    #Data Load\n",
    "    data_set = load_data() \n",
    "\n",
    "    numericalValues, categoricalValues = splitData(data_set)\n",
    "    \n",
    "    feature = normalizeDataFrame(numericalValues, categoricalValues, data_set)\n",
    "    target = LabelEncoder().fit_transform(data_set['salary'])\n",
    "    \n",
    "    X_train, X_test, y_train, y_test = train_test_split(feature, target, test_size=0.2, random_state=120)\n",
    "    \n",
    "    baggingClassifier(X_train, X_test, y_train, y_test)\n",
    "    randomForestClassifier(X_train, X_test, y_train, y_test)\n",
    "    "
   ]
  },
  {
   "cell_type": "code",
   "execution_count": 516,
   "metadata": {},
   "outputs": [
    {
     "name": "stdout",
     "output_type": "stream",
     "text": [
      "Accuracy Score for Bagging model is 82\n",
      "F1 Score for Bagging model is 82\n",
      "Accuracy Score for Random Forest model is 82\n",
      "F1 Score for Random Forest model is 82\n"
     ]
    }
   ],
   "source": [
    "if __name__ == \"__main__\":\n",
    "    main()"
   ]
  }
 ],
 "metadata": {
  "kernelspec": {
   "display_name": "Python 3",
   "language": "python",
   "name": "python3"
  },
  "language_info": {
   "codemirror_mode": {
    "name": "ipython",
    "version": 3
   },
   "file_extension": ".py",
   "mimetype": "text/x-python",
   "name": "python",
   "nbconvert_exporter": "python",
   "pygments_lexer": "ipython3",
   "version": "3.7.3"
  }
 },
 "nbformat": 4,
 "nbformat_minor": 2
}
