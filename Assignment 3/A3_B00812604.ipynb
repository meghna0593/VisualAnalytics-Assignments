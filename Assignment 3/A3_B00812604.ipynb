{
 "cells": [
  {
   "cell_type": "markdown",
   "metadata": {},
   "source": [
    "# Visual Analytics : Assignment 3 \n",
    ">#### <font color=\"#2196F3\">Meghna Ramachandra Holla (B00812604) </font>\n",
    "***"
   ]
  },
  {
   "cell_type": "code",
   "execution_count": 700,
   "metadata": {},
   "outputs": [],
   "source": [
    "import matplotlib.pyplot as plt\n",
    "import pandas as pd\n",
    "import numpy as np\n",
    "from sklearn import preprocessing\n",
    "from sklearn.preprocessing import LabelEncoder\n",
    "from sklearn.model_selection import train_test_split\n",
    "from sklearn.ensemble.bagging import BaggingClassifier\n",
    "from sklearn.ensemble.forest import RandomForestClassifier\n",
    "from sklearn.neighbors.classification import KNeighborsClassifier\n",
    "from sklearn import metrics\n"
   ]
  },
  {
   "cell_type": "code",
   "execution_count": 701,
   "metadata": {},
   "outputs": [],
   "source": [
    "# Loading data from CSV file\n",
    "def load_data():\n",
    "    path_to_file = \"dataset1_processed.csv\"\n",
    "    data_set = pd.read_csv(path_to_file)\n",
    "    return data_set"
   ]
  },
  {
   "cell_type": "code",
   "execution_count": 702,
   "metadata": {},
   "outputs": [],
   "source": [
    "def splitData(dataset):\n",
    "    #gathering numerical values\n",
    "    datatype_numeric = ['int16', 'int32', 'int64', 'float16', 'float32', 'float64']\n",
    "    numericalValues = dataset.select_dtypes(include=datatype_numeric)\n",
    "    categoricalValues = dataset.select_dtypes(exclude=datatype_numeric)   \n",
    "    categoricalValues = categoricalValues.loc[:, categoricalValues.columns != 'salary']\n",
    "    return (numericalValues, categoricalValues)"
   ]
  },
  {
   "cell_type": "code",
   "execution_count": 703,
   "metadata": {},
   "outputs": [],
   "source": [
    "def normalizeDataFrame(numericalValues, categoricalValues, data_set):\n",
    "    \n",
    "    categorical_df =  pd.get_dummies(categoricalValues, columns=list(categoricalValues.columns))  \n",
    "    arr = numericalValues.values.astype('float64') \n",
    "    min_max_scaler = preprocessing.MinMaxScaler()\n",
    "    arr_scaled = min_max_scaler.fit_transform(arr)\n",
    "    numerical_df = pd.DataFrame(arr_scaled)\n",
    "   \n",
    "    merged_df=pd.concat([numerical_df,categorical_df],axis=1)\n",
    "\n",
    "    return merged_df\n",
    "\n",
    "#https://stackoverflow.com/questions/26414913/normalize-columns-of-pandas-data-frame\n",
    "#https://stackoverflow.com/questions/39214164/data-conversion-error-while-applying-a-function-to-each-row-in-pandas-python\n",
    "#https://stackoverflow.com/questions/38413579/what-is-the-difference-between-sklearn-labelencoder-and-pd-get-dummies\n",
    "#https://www.reddit.com/r/MachineLearning/comments/3nuh7g/is_it_effective_to_use_one_hot_encoding_of/"
   ]
  },
  {
   "cell_type": "code",
   "execution_count": 704,
   "metadata": {},
   "outputs": [],
   "source": [
    "accuracyArr = []\n",
    "f1ScoreArr = []\n",
    "labelsArr = []"
   ]
  },
  {
   "cell_type": "code",
   "execution_count": 705,
   "metadata": {},
   "outputs": [],
   "source": [
    "def accuracy_f1Score(model, y_pred, y_test):\n",
    "    accuracy = metrics.accuracy_score(y_test, y_pred)\n",
    "    f1Score = metrics.f1_score(y_test, y_pred, average='weighted')\n",
    "    print(\"Accuracy Score for\",model,\"model is\", round((accuracy*100),2))\n",
    "    print(\"F1 Score for\",model,\"model is\", round((f1Score*100),2))  \n",
    "    accuracyArr.append((accuracy*100))\n",
    "    f1ScoreArr.append((f1Score*100))\n",
    "    labelsArr.append(model)\n",
    "    print(\"\\n\")\n",
    "    \n",
    "#https://medium.com/analytics-vidhya/accuracy-vs-f1-score-6258237beca2"
   ]
  },
  {
   "cell_type": "code",
   "execution_count": 706,
   "metadata": {},
   "outputs": [],
   "source": [
    "def baggingClassifier(X_train, X_test, y_train, y_test):\n",
    "    classifier = BaggingClassifier(n_estimators=15)\n",
    "    classifier.fit(X_train, y_train)\n",
    "    y_pred = classifier.predict(X_test)\n",
    "    accuracy_f1Score(\"Bagging\", y_pred, y_test)"
   ]
  },
  {
   "cell_type": "code",
   "execution_count": 707,
   "metadata": {},
   "outputs": [],
   "source": [
    "def randomForestClassifier(X_train, X_test, y_train, y_test):\n",
    "    classifier = RandomForestClassifier(n_estimators=15)\n",
    "    classifier.fit(X_train, y_train)\n",
    "    y_pred = classifier.predict(X_test)\n",
    "    accuracy_f1Score(\"Random Forest\", y_pred, y_test)    "
   ]
  },
  {
   "cell_type": "code",
   "execution_count": 708,
   "metadata": {},
   "outputs": [],
   "source": [
    "def knnClassifier(X_train, X_test, y_train, y_test):\n",
    "    classifier = KNeighborsClassifier(n_neighbors=8)\n",
    "    classifier.fit(X_train, y_train)\n",
    "    y_pred = classifier.predict(X_test) \n",
    "    accuracy_f1Score(\"KNN\", y_pred, y_test)        "
   ]
  },
  {
   "cell_type": "code",
   "execution_count": 709,
   "metadata": {},
   "outputs": [],
   "source": [
    "def classifierComparisonGraph():\n",
    "    x = np.arange(len(labelsArr))  \n",
    "    width = 0.15  \n",
    "    fig, ax = plt.subplots(figsize=[10,5])\n",
    "    rects1 = ax.bar(x - width/2, f1ScoreArr, width, label='F1 Score',color='#ed5565')\n",
    "    rects2 = ax.bar(x + width/2, accuracyArr, width, label='Accuracy',color='#f8ac59')\n",
    "\n",
    "    # Add some text for labels, title and custom x-axis tick labels, etc.\n",
    "    ax.set_ylabel('Scores')\n",
    "    ax.set_title('F1 score and Accuracy Score')\n",
    "    ax.set_xticks(x)\n",
    "    ax.set_xticklabels(labelsArr)\n",
    "    ax.legend(loc='lower right')\n",
    "    \n",
    "#https://matplotlib.org/3.1.1/gallery/lines_bars_and_markers/barchart.html#sphx-glr-gallery-lines-bars-and-markers-barchart-py"
   ]
  },
  {
   "cell_type": "code",
   "execution_count": 710,
   "metadata": {},
   "outputs": [],
   "source": [
    "def main():\n",
    "    \n",
    "    #Data Load\n",
    "    data_set = load_data() \n",
    "\n",
    "    numericalValues, categoricalValues = splitData(data_set)\n",
    "    \n",
    "    feature = normalizeDataFrame(numericalValues, categoricalValues, data_set)\n",
    "    target = LabelEncoder().fit_transform(data_set['salary'])\n",
    "    \n",
    "    X_train, X_test, y_train, y_test = train_test_split(feature, target, test_size=0.2, random_state=120)\n",
    "    \n",
    "    baggingClassifier(X_train, X_test, y_train, y_test)\n",
    "    randomForestClassifier(X_train, X_test, y_train, y_test)\n",
    "    knnClassifier(X_train, X_test, y_train, y_test)\n",
    "    \n",
    "    classifierComparisonGraph()"
   ]
  },
  {
   "cell_type": "code",
   "execution_count": 711,
   "metadata": {},
   "outputs": [
    {
     "name": "stdout",
     "output_type": "stream",
     "text": [
      "Accuracy Score for Bagging model is 82.41\n",
      "F1 Score for Bagging model is 81.96\n",
      "\n",
      "\n",
      "Accuracy Score for Random Forest model is 82.15\n",
      "F1 Score for Random Forest model is 81.61\n",
      "\n",
      "\n",
      "Accuracy Score for KNN model is 81.92\n",
      "F1 Score for KNN model is 80.86\n",
      "\n",
      "\n"
     ]
    },
    {
     "data": {
      "image/png": "[encoded data removed]",
      "text/plain": [
       "<Figure size 720x360 with 1 Axes>"
      ]
     },
     "metadata": {
      "needs_background": "light"
     },
     "output_type": "display_data"
    }
   ],
   "source": [
    "if __name__ == \"__main__\":\n",
    "    main()"
   ]
  }
 ],
 "metadata": {
  "kernelspec": {
   "display_name": "Python 3",
   "language": "python",
   "name": "python3"
  },
  "language_info": {
   "codemirror_mode": {
    "name": "ipython",
    "version": 3
   },
   "file_extension": ".py",
   "mimetype": "text/x-python",
   "name": "python",
   "nbconvert_exporter": "python",
   "pygments_lexer": "ipython3",
   "version": "3.7.3"
  }
 },
 "nbformat": 4,
 "nbformat_minor": 2
}
