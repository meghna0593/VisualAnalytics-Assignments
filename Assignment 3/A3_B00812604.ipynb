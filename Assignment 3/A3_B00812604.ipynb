{
 "cells": [
  {
   "cell_type": "markdown",
   "metadata": {},
   "source": [
    "# Visual Analytics : Assignment 3 \n",
    ">#### <font color=\"#2196F3\">Meghna Ramachandra Holla (B00812604) </font>\n",
    "***"
   ]
  },
  {
   "cell_type": "code",
   "execution_count": 33,
   "metadata": {},
   "outputs": [],
   "source": [
    "import matplotlib.pyplot as plt\n",
    "import pandas as pd\n",
    "import numpy as np\n",
    "from sklearn import preprocessing\n",
    "from sklearn.preprocessing import LabelEncoder\n",
    "from sklearn.model_selection import train_test_split\n",
    "from sklearn.ensemble.bagging import BaggingClassifier\n",
    "from sklearn import svm\n",
    "from sklearn.ensemble.forest import RandomForestClassifier\n",
    "from sklearn.neighbors.classification import KNeighborsClassifier\n",
    "from sklearn.tree import DecisionTreeClassifier\n",
    "from sklearn import metrics\n",
    "from sklearn.model_selection import GridSearchCV\n",
    "from sklearn.model_selection import validation_curve\n",
    "import csv"
   ]
  },
  {
   "cell_type": "markdown",
   "metadata": {},
   "source": [
    "##### Data Load "
   ]
  },
  {
   "cell_type": "code",
   "execution_count": 34,
   "metadata": {},
   "outputs": [],
   "source": [
    "# Loading data from CSV file\n",
    "def load_data(fileName):\n",
    "    path_to_file = fileName\n",
    "    data_set = pd.read_csv(path_to_file)\n",
    "    return data_set"
   ]
  },
  {
   "cell_type": "markdown",
   "metadata": {},
   "source": [
    "##### Splitting categorical and numerical columns. Removed Target column from Categorical column"
   ]
  },
  {
   "cell_type": "code",
   "execution_count": 35,
   "metadata": {},
   "outputs": [],
   "source": [
    "#Method to split numerical and categorical data\n",
    "def splitData(dataset):\n",
    "    #gathering numerical values only\n",
    "    datatype_numeric = ['int16', 'int32', 'int64', 'float16', 'float32', 'float64']\n",
    "    numericalValues = dataset.select_dtypes(include=datatype_numeric)\n",
    "    categoricalValues = dataset.select_dtypes(exclude=datatype_numeric)   \n",
    "    categoricalValues = categoricalValues.loc[:, categoricalValues.columns != 'salary']\n",
    "    \n",
    "    return (numericalValues, categoricalValues)"
   ]
  },
  {
   "cell_type": "code",
   "execution_count": 36,
   "metadata": {},
   "outputs": [],
   "source": [
    "#Global Variables\n",
    "accuracyArr = []\n",
    "f1ScoreArr = []\n",
    "labelsArr = []\n",
    "variationF1Score = []\n",
    "feature_old= []\n",
    "feature_new = []"
   ]
  },
  {
   "cell_type": "markdown",
   "metadata": {},
   "source": [
    "##### Converted categorical data into binary columns. Normalized numerical columns. Merged all columns"
   ]
  },
  {
   "cell_type": "code",
   "execution_count": 37,
   "metadata": {},
   "outputs": [],
   "source": [
    "#Method to normalize the data\n",
    "def normalizeDataFrame(numericalValues, categoricalValues, data_set, opt=0):\n",
    "    \n",
    "    categorical_df =  pd.get_dummies(categoricalValues, columns=list(categoricalValues.columns))\n",
    "    \n",
    "    arr = numericalValues.values.astype('float64') \n",
    "    min_max_scaler = preprocessing.MinMaxScaler()\n",
    "    arr_scaled = min_max_scaler.fit_transform(arr)\n",
    "    numerical_df = pd.DataFrame(arr_scaled)\n",
    "    \n",
    "    merged_df=pd.concat([numerical_df,categorical_df],axis=1)\n",
    "    \n",
    "    return (categorical_df.columns,merged_df)\n"
   ]
  },
  {
   "cell_type": "markdown",
   "metadata": {},
   "source": [
    "##### Calculating F1 Score and Accuracy"
   ]
  },
  {
   "cell_type": "code",
   "execution_count": 38,
   "metadata": {},
   "outputs": [],
   "source": [
    "#MEthod to calculate Accuracy and F1 Score with Macro average\n",
    "def accuracy_f1Score(model, y_pred, y_test,flag=0):\n",
    "    accuracy = metrics.accuracy_score(y_test, y_pred)\n",
    "    f1Score = metrics.f1_score(y_test, y_pred, average='macro')\n",
    "    \n",
    "    if(flag==0):\n",
    "        print(\"Accuracy Score for\",model,\"model is\", round((accuracy*100),2))\n",
    "        print(\"F1 Score for\",model,\"model is\", round((f1Score*100),2))  \n",
    "        accuracyArr.append((accuracy*100))\n",
    "        f1ScoreArr.append((f1Score*100))\n",
    "        labelsArr.append(model)\n",
    "        print(\"\\n\")\n",
    "    else:\n",
    "        variationF1Score.append(round((f1Score*100),2))\n",
    "    "
   ]
  },
  {
   "cell_type": "markdown",
   "metadata": {},
   "source": [
    "##### SVM Classifier"
   ]
  },
  {
   "cell_type": "code",
   "execution_count": 39,
   "metadata": {},
   "outputs": [],
   "source": [
    "def svmClassifier(X_train, X_test, y_train, y_test):\n",
    "    classifier = svm.SVC(gamma='scale')\n",
    "    classifier.fit(X_train, y_train)\n",
    "    y_pred = classifier.predict(X_test)\n",
    "    accuracy_f1Score(\"SVM\", y_pred, y_test)"
   ]
  },
  {
   "cell_type": "markdown",
   "metadata": {},
   "source": [
    "##### Random Forest Classifier"
   ]
  },
  {
   "cell_type": "code",
   "execution_count": 40,
   "metadata": {},
   "outputs": [],
   "source": [
    "def randomForestClassifier(X_train, X_test, y_train, y_test,n_estimators=15, flag=0):\n",
    "    classifier = RandomForestClassifier(n_estimators=n_estimators)\n",
    "    classifier.fit(X_train, y_train)\n",
    "    y_pred = classifier.predict(X_test)\n",
    "    accuracy_f1Score(\"Random Forest\", y_pred, y_test,flag)    "
   ]
  },
  {
   "cell_type": "markdown",
   "metadata": {},
   "source": [
    "##### K-Nearest Neighbors Classifier"
   ]
  },
  {
   "cell_type": "code",
   "execution_count": 41,
   "metadata": {},
   "outputs": [],
   "source": [
    "def knnClassifier(X_train, X_test, y_train, y_test):\n",
    "    classifier = KNeighborsClassifier(n_neighbors=8)\n",
    "    classifier.fit(X_train, y_train)\n",
    "    y_pred = classifier.predict(X_test) \n",
    "    accuracy_f1Score(\"KNN\", y_pred, y_test)        "
   ]
  },
  {
   "cell_type": "markdown",
   "metadata": {},
   "source": [
    "##### Bar Graph to compare Accuracy and F1 Score of all three models"
   ]
  },
  {
   "cell_type": "code",
   "execution_count": 42,
   "metadata": {},
   "outputs": [],
   "source": [
    "#Method to create bar graph\n",
    "def classifierComparisonGraph():\n",
    "    size = np.arange(len(labelsArr))  \n",
    "    width = 0.15  \n",
    "    \n",
    "    fig, x = plt.subplots(figsize=[10,5])\n",
    "    \n",
    "    rects1 = x.bar(size - width/2, f1ScoreArr, width, label='F1 Score',color='#ed5565')\n",
    "    rects2 = x.bar(size + width/2, accuracyArr, width, label='Accuracy',color='#f8ac59')\n",
    "    x.set_ylabel('Scores')\n",
    "    x.set_title('F1 score and Accuracy Score')\n",
    "    x.set_xticks(size)\n",
    "    x.set_xticklabels(labelsArr)\n",
    "    x.legend(loc='lower right')\n",
    "    \n"
   ]
  },
  {
   "cell_type": "markdown",
   "metadata": {},
   "source": [
    "##### Calculating F1 score for different n_estimator values"
   ]
  },
  {
   "cell_type": "code",
   "execution_count": 43,
   "metadata": {},
   "outputs": [],
   "source": [
    "#Method to create line chart with F1 score variation\n",
    "def f1ScoreVariation(X_train, X_test, y_train, y_test):\n",
    "    index=[]\n",
    "    for i in range(1,11):\n",
    "        index.append(i*100)\n",
    "        randomForestClassifier(X_train, X_test, y_train, y_test, i*100, 1)\n",
    "    \n",
    "    df = pd.DataFrame({'f1_score_macro':variationF1Score}, index=index)\n",
    "    df.plot.line()"
   ]
  },
  {
   "cell_type": "markdown",
   "metadata": {},
   "source": [
    "##### Performed GridSearchCV to get best parameters. Created a model with these parameters"
   ]
  },
  {
   "cell_type": "code",
   "execution_count": 44,
   "metadata": {},
   "outputs": [],
   "source": [
    "#Method to run GridSearchCV and build RF model with optimized parameters\n",
    "def gridSearchRandomForest(X_train, X_test, y_train, y_test):\n",
    "    #Possible combination of parameters - hyper parameters\n",
    "    param_grid= {\n",
    "        'min_samples_leaf': [2, 4],\n",
    "        'min_samples_split': [5, 10],\n",
    "        'n_estimators': [100, 200, 400, 500]\n",
    "    }\n",
    "    \n",
    "    rf_classifier = RandomForestClassifier(random_state=20) #verbose=1\n",
    "    grid_rf = GridSearchCV(estimator=rf_classifier, param_grid=param_grid, cv= 4, scoring='f1_macro')\n",
    "    grid_result = grid_rf.fit(X_train, y_train)\n",
    "    print(\"Accuracy Score based on optimized parameters:\",grid_result.best_score_)\n",
    "    print(\"The best parameters\",grid_result.best_params_)\n",
    "    \n",
    "    #using the hyper parameters\n",
    "    classifier = RandomForestClassifier(min_samples_leaf=2, min_samples_split= 10, n_estimators=400)\n",
    "    classifier.fit(X_train, y_train)\n",
    "    y_pred = classifier.predict(X_test)\n",
    "    accuracy_f1Score(\"Random Forest\", y_pred, y_test)  \n",
    "    \n",
    "    return classifier\n",
    "\n",
    "\n"
   ]
  },
  {
   "cell_type": "markdown",
   "metadata": {},
   "source": [
    "##### Predicting test data"
   ]
  },
  {
   "cell_type": "code",
   "execution_count": 45,
   "metadata": {},
   "outputs": [],
   "source": [
    "#Using optimized model to predict with test data\n",
    "def predictTestData(classifier, feature_old):\n",
    "    \n",
    "    data_set = load_data(\"dataset1_test.csv\")\n",
    "    \n",
    "    data_set = data_set.loc[:, data_set.columns != 'capital-gain'] #removing this column to match the training data\n",
    "    numericalValues, categoricalValues = splitData(data_set)\n",
    "    \n",
    "    feature_new, X_test = normalizeDataFrame(numericalValues, categoricalValues, data_set,1)\n",
    "    diff_a = list(set(feature_old)-set(feature_new))\n",
    "    X_test[diff_a[0]] = 0 #adding zero to the missing column in test data\n",
    "    \n",
    "    y_pred = classifier.predict(X_test)\n",
    "    return y_pred\n",
    "    \n",
    "    "
   ]
  },
  {
   "cell_type": "markdown",
   "metadata": {},
   "source": [
    "##### Storing predicted values in CSV file"
   ]
  },
  {
   "cell_type": "code",
   "execution_count": 46,
   "metadata": {},
   "outputs": [],
   "source": [
    "#Stored the prediction in csv file\n",
    "def writeToCsv(values):\n",
    "    writer = csv.writer(open ('B00812604_prediction.csv', 'w'), delimiter=',', lineterminator='\\n')\n",
    "    for pred in values : writer.writerow ([pred])"
   ]
  },
  {
   "cell_type": "code",
   "execution_count": 47,
   "metadata": {},
   "outputs": [],
   "source": [
    "def main():\n",
    "    \n",
    "    data_set = load_data(\"dataset1_processed.csv\") \n",
    "\n",
    "    numericalValues, categoricalValues = splitData(data_set)\n",
    "    \n",
    "    labelEncode = preprocessing.LabelEncoder()\n",
    "    \n",
    "    feature_old, feature = normalizeDataFrame(numericalValues, categoricalValues, data_set)\n",
    "    target = labelEncode.fit_transform(data_set['salary'])\n",
    "    X_train, X_test, y_train, y_test = train_test_split(feature, target, test_size=0.2, random_state=120)\n",
    "    \n",
    "    svmClassifier(X_train, X_test, y_train, y_test)\n",
    "    randomForestClassifier(X_train, X_test, y_train, y_test)\n",
    "    knnClassifier(X_train, X_test, y_train, y_test)\n",
    "\n",
    "    classifierComparisonGraph()\n",
    "    f1ScoreVariation(X_train, X_test, y_train, y_test)\n",
    "    bestModel = gridSearchRandomForest(X_train, X_test, y_train, y_test)\n",
    "    \n",
    "    y_pred = predictTestData(bestModel, feature_old)\n",
    "    y_pred = list(labelEncode.inverse_transform(y_pred))\n",
    "    writeToCsv(y_pred)\n"
   ]
  },
  {
   "cell_type": "markdown",
   "metadata": {},
   "source": [
    "#### Answers\n",
    "- A1:The Categorical values that were binarized using One-Hot encoding techniques are workclass, fnlwgt, education, marital-status, occupation, relationship, race, sex and native-country. The Numerical Values that were scaled from 0 to 1 and normalized are capital-loss, hours-per-week, education-num and age.\n",
    "- A3: The three machine learning classification algorithms used are Support Vector Machine (SVM), Random Forest and K-Nearest Neighbors (KNN).  \n",
    "    - Random forest performs better with large amount of training data. Also, they work well with categorical data. Therefore, from the results, it is seen that Random Forest classifier has the highest F1 score. Random forest classifier has given an F1 score of <b> 74.59 </b>\n",
    "    - Accuracy score is the highest for SVM whereas the F1 score is the highest for Random forest. Accuracy gives the measure of properly identified cases, F1 score gives the measure of improperly identified cases. Therefore I will be considering <b> Random Forest ML algorithm </b> for further operations.\n",
    "- A4: I have used the parameter 'n_estimator' for checking the F1_score variation. With n_estimator ranging from 100 to 1000, it is seen that f1 score is the highest at n_estimator=<b>400</b> and then reduces after that value before rising a little at 900 and dropping invariably at 1000.\n",
    "- A5: Since F1 score is the highest for Random Forest Classifier, I have used this algorithm. \n",
    "    - F1 score is used to validate a model when False negatives and False positives are important to consider. It is used when the distribution of the class is not balanced. Since the classes of our data is not balanced, <b>F1 score with macro average</b> is considered. \n",
    "    - I have implemented GridSearchCV to estimate the best parameters for the Random Forest Classifier. In A4, n_estimator with 400 gave the best F1 score. In GridSearchCV, 400 was included as one of the estimators. It again showed that the best n_estimator is <b>400</b>. The other parameters chosen from the hyper parameters are <b>'min_samples_leaf': 2 and 'min_samples_split': 10</b>. \n",
    "    - After tuning in the best parameters, <b>the F1 score increased from 74.59 to 76.3</b>\n",
    "    - The steps followed for getting the new F1 score:\n",
    "        - Ran GridSearchCV with hyperparameters\n",
    "        - Obtained best parameters \n",
    "        - Built the Random Forest Classifer with these parameters\n",
    "        - Calculates the best F1 score with macro average\n",
    "- A6: From the model generated after performing gridsearchCV, I passed the test data to this model. I made sure that the no.of features of test data matched with the no.of features of train data. There was one feature missing, therefore added the feature that was missing in test data by calculating the difference in features and assigning this column a zero value. Finally, made the prediction and saved in a CSV file\n",
    "\n",
    "Note: The model was built on label encoded target. Therefore, I decoded the predicted value using inverse_transform method"
   ]
  },
  {
   "cell_type": "code",
   "execution_count": 48,
   "metadata": {},
   "outputs": [
    {
     "name": "stdout",
     "output_type": "stream",
     "text": [
      "Accuracy Score for SVM model is 82.41\n",
      "F1 Score for SVM model is 73.55\n",
      "\n",
      "\n",
      "Accuracy Score for Random Forest model is 82.15\n",
      "F1 Score for Random Forest model is 74.59\n",
      "\n",
      "\n",
      "Accuracy Score for KNN model is 81.92\n",
      "F1 Score for KNN model is 72.91\n",
      "\n",
      "\n",
      "Accuracy Score based on optimized parameters: 0.7583055097549302\n",
      "The best parameters {'min_samples_leaf': 2, 'min_samples_split': 10, 'n_estimators': 400}\n",
      "Accuracy Score for Random Forest model is 83.91\n",
      "F1 Score for Random Forest model is 76.3\n",
      "\n",
      "\n"
     ]
    },
    {
     "data": {
      "image/png": "[encoded data removed]",
      "text/plain": [
       "<Figure size 720x360 with 1 Axes>"
      ]
     },
     "metadata": {
      "needs_background": "light"
     },
     "output_type": "display_data"
    },
    {
     "data": {
      "image/png": "[encoded data removed]",
      "text/plain": [
       "<Figure size 432x288 with 1 Axes>"
      ]
     },
     "metadata": {
      "needs_background": "light"
     },
     "output_type": "display_data"
    }
   ],
   "source": [
    "if __name__ == \"__main__\":\n",
    "    main()"
   ]
  },
  {
   "cell_type": "markdown",
   "metadata": {},
   "source": [
    "#### References\n",
    "#https://stackoverflow.com/questions/26414913/normalize-columns-of-pandas-data-frame\n",
    "#https://stackoverflow.com/questions/39214164/data-conversion-error-while-applying-a-function-to-each-row-in-pandas-python\n",
    "#https://stackoverflow.com/questions/38413579/what-is-the-difference-between-sklearn-labelencoder-and-pd-get-dummies\n",
    "#https://www.reddit.com/r/MachineLearning/comments/3nuh7g/is_it_effective_to_use_one_hot_encoding_of/\n",
    "#https://medium.com/analytics-vidhya/accuracy-vs-f1-score-6258237beca2\n",
    "#https://matplotlib.org/3.1.1/gallery/lines_bars_and_markers/barchart.html#sphx-glr-gallery-lines-bars-and-markers-barchart-py\n",
    "#https://pandas.pydata.org/pandas-docs/stable/reference/api/pandas.DataFrame.plot.line.html\n"
   ]
  }
 ],
 "metadata": {
  "kernelspec": {
   "display_name": "Python 3",
   "language": "python",
   "name": "python3"
  },
  "language_info": {
   "codemirror_mode": {
    "name": "ipython",
    "version": 3
   },
   "file_extension": ".py",
   "mimetype": "text/x-python",
   "name": "python",
   "nbconvert_exporter": "python",
   "pygments_lexer": "ipython3",
   "version": "3.7.3"
  }
 },
 "nbformat": 4,
 "nbformat_minor": 2
}
